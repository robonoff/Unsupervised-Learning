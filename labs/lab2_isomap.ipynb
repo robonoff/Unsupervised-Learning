{
 "cells": [
  {
   "cell_type": "markdown",
   "metadata": {},
   "source": [
    "You can use external libraries for linear algebra operations but you are expected\n",
    "to write your own algorithms.<\\br>\n",
    "\n",
    "3.1 Exercise 1\n",
    "•Write your own implementation of Isomap.<\\br>\n",
    "•Apply it to the Swiss Roll dataset (n = 1000) from Lab 1.<\\br>\n",
    "•Use a modified version of the Swiss Roll dataset, in which Gaussian noise\n",
    "from a Normal N(μ = 0,σ = 0.5) is added to the x and y coordinates.<\\br>\n",
    "Apply Isomap to this dataset and discuss the differences with the previous\n",
    "point"
   ]
  },
  {
   "cell_type": "code",
   "execution_count": null,
   "metadata": {},
   "outputs": [],
   "source": []
  }
 ],
 "metadata": {
  "language_info": {
   "name": "python"
  }
 },
 "nbformat": 4,
 "nbformat_minor": 2
}
